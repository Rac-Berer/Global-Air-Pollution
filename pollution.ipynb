{
 "cells": [
  {
   "cell_type": "code",
   "execution_count": 140,
   "metadata": {},
   "outputs": [],
   "source": [
    "# Dependencies and Setup\n",
    "import pandas as pd\n",
    "import requests\n",
    "import matplotlib.pyplot as plt\n",
    "import numpy as np\n",
    "from scipy.stats import linregress\n",
    "import scipy.stats as st\n",
    "import flask as Flask\n",
    "import sqlalchemy"
   ]
  },
  {
   "cell_type": "code",
   "execution_count": 141,
   "metadata": {},
   "outputs": [
    {
     "data": {
      "text/html": [
       "<div>\n",
       "<style scoped>\n",
       "    .dataframe tbody tr th:only-of-type {\n",
       "        vertical-align: middle;\n",
       "    }\n",
       "\n",
       "    .dataframe tbody tr th {\n",
       "        vertical-align: top;\n",
       "    }\n",
       "\n",
       "    .dataframe thead th {\n",
       "        text-align: right;\n",
       "    }\n",
       "</style>\n",
       "<table border=\"1\" class=\"dataframe\">\n",
       "  <thead>\n",
       "    <tr style=\"text-align: right;\">\n",
       "      <th></th>\n",
       "      <th>City_ID</th>\n",
       "      <th>Country</th>\n",
       "      <th>City</th>\n",
       "      <th>AQI_Value</th>\n",
       "      <th>AQI_Category</th>\n",
       "      <th>CO_AQI_Value</th>\n",
       "      <th>CO_AQI_Category</th>\n",
       "      <th>Ozone_AQI_Value</th>\n",
       "      <th>Ozone_AQI_Category</th>\n",
       "      <th>NO2_AQI_Value</th>\n",
       "      <th>NO2_AQI_Category</th>\n",
       "      <th>PM2.5_AQI_Value</th>\n",
       "      <th>PM2.5_AQI_Category</th>\n",
       "    </tr>\n",
       "  </thead>\n",
       "  <tbody>\n",
       "    <tr>\n",
       "      <th>0</th>\n",
       "      <td>1</td>\n",
       "      <td>Russian Federation</td>\n",
       "      <td>Praskoveya</td>\n",
       "      <td>51</td>\n",
       "      <td>Moderate</td>\n",
       "      <td>1</td>\n",
       "      <td>Good</td>\n",
       "      <td>36</td>\n",
       "      <td>Good</td>\n",
       "      <td>0</td>\n",
       "      <td>Good</td>\n",
       "      <td>51</td>\n",
       "      <td>Moderate</td>\n",
       "    </tr>\n",
       "    <tr>\n",
       "      <th>1</th>\n",
       "      <td>2</td>\n",
       "      <td>Brazil</td>\n",
       "      <td>Presidente Dutra</td>\n",
       "      <td>41</td>\n",
       "      <td>Good</td>\n",
       "      <td>1</td>\n",
       "      <td>Good</td>\n",
       "      <td>5</td>\n",
       "      <td>Good</td>\n",
       "      <td>1</td>\n",
       "      <td>Good</td>\n",
       "      <td>41</td>\n",
       "      <td>Good</td>\n",
       "    </tr>\n",
       "    <tr>\n",
       "      <th>2</th>\n",
       "      <td>3</td>\n",
       "      <td>Italy</td>\n",
       "      <td>Priolo Gargallo</td>\n",
       "      <td>66</td>\n",
       "      <td>Moderate</td>\n",
       "      <td>1</td>\n",
       "      <td>Good</td>\n",
       "      <td>39</td>\n",
       "      <td>Good</td>\n",
       "      <td>2</td>\n",
       "      <td>Good</td>\n",
       "      <td>66</td>\n",
       "      <td>Moderate</td>\n",
       "    </tr>\n",
       "    <tr>\n",
       "      <th>3</th>\n",
       "      <td>4</td>\n",
       "      <td>Poland</td>\n",
       "      <td>Przasnysz</td>\n",
       "      <td>34</td>\n",
       "      <td>Good</td>\n",
       "      <td>1</td>\n",
       "      <td>Good</td>\n",
       "      <td>34</td>\n",
       "      <td>Good</td>\n",
       "      <td>0</td>\n",
       "      <td>Good</td>\n",
       "      <td>20</td>\n",
       "      <td>Good</td>\n",
       "    </tr>\n",
       "    <tr>\n",
       "      <th>4</th>\n",
       "      <td>5</td>\n",
       "      <td>France</td>\n",
       "      <td>Punaauia</td>\n",
       "      <td>22</td>\n",
       "      <td>Good</td>\n",
       "      <td>0</td>\n",
       "      <td>Good</td>\n",
       "      <td>22</td>\n",
       "      <td>Good</td>\n",
       "      <td>0</td>\n",
       "      <td>Good</td>\n",
       "      <td>6</td>\n",
       "      <td>Good</td>\n",
       "    </tr>\n",
       "  </tbody>\n",
       "</table>\n",
       "</div>"
      ],
      "text/plain": [
       "   City_ID             Country              City  AQI_Value AQI_Category  \\\n",
       "0        1  Russian Federation        Praskoveya         51     Moderate   \n",
       "1        2              Brazil  Presidente Dutra         41         Good   \n",
       "2        3               Italy   Priolo Gargallo         66     Moderate   \n",
       "3        4              Poland         Przasnysz         34         Good   \n",
       "4        5              France          Punaauia         22         Good   \n",
       "\n",
       "   CO_AQI_Value CO_AQI_Category  Ozone_AQI_Value Ozone_AQI_Category  \\\n",
       "0             1            Good               36               Good   \n",
       "1             1            Good                5               Good   \n",
       "2             1            Good               39               Good   \n",
       "3             1            Good               34               Good   \n",
       "4             0            Good               22               Good   \n",
       "\n",
       "   NO2_AQI_Value NO2_AQI_Category  PM2.5_AQI_Value PM2.5_AQI_Category  \n",
       "0              0             Good               51           Moderate  \n",
       "1              1             Good               41               Good  \n",
       "2              2             Good               66           Moderate  \n",
       "3              0             Good               20               Good  \n",
       "4              0             Good                6               Good  "
      ]
     },
     "execution_count": 141,
     "metadata": {},
     "output_type": "execute_result"
    }
   ],
   "source": [
    "# Read in csv file and display data\n",
    "pollution = pd.read_csv(\"data\\global air pollutiondataset.csv\")\n",
    "pollution.head()"
   ]
  },
  {
   "cell_type": "code",
   "execution_count": 142,
   "metadata": {},
   "outputs": [
    {
     "name": "stdout",
     "output_type": "stream",
     "text": [
      "<class 'pandas.core.frame.DataFrame'>\n",
      "RangeIndex: 23463 entries, 0 to 23462\n",
      "Data columns (total 13 columns):\n",
      " #   Column              Non-Null Count  Dtype \n",
      "---  ------              --------------  ----- \n",
      " 0   City_ID             23463 non-null  int64 \n",
      " 1   Country             23036 non-null  object\n",
      " 2   City                23462 non-null  object\n",
      " 3   AQI_Value           23463 non-null  int64 \n",
      " 4   AQI_Category        23463 non-null  object\n",
      " 5   CO_AQI_Value        23463 non-null  int64 \n",
      " 6   CO_AQI_Category     23463 non-null  object\n",
      " 7   Ozone_AQI_Value     23463 non-null  int64 \n",
      " 8   Ozone_AQI_Category  23463 non-null  object\n",
      " 9   NO2_AQI_Value       23463 non-null  int64 \n",
      " 10  NO2_AQI_Category    23463 non-null  object\n",
      " 11  PM2.5_AQI_Value     23463 non-null  int64 \n",
      " 12  PM2.5_AQI_Category  23463 non-null  object\n",
      "dtypes: int64(6), object(7)\n",
      "memory usage: 2.3+ MB\n"
     ]
    }
   ],
   "source": [
    "# summary of the global air pollution dataset\n",
    "pollution.info()"
   ]
  },
  {
   "cell_type": "code",
   "execution_count": 143,
   "metadata": {},
   "outputs": [
    {
     "name": "stdout",
     "output_type": "stream",
     "text": [
      "['Russian Federation' 'Brazil' 'Italy' 'Poland' 'France'\n",
      " 'United States of America' 'Germany' 'Belgium' 'Egypt' 'China'\n",
      " 'Netherlands' 'India' 'Pakistan' 'Republic of North Macedonia' 'Colombia'\n",
      " 'Romania' 'Indonesia' 'Finland' 'South Africa'\n",
      " 'United Kingdom of Great Britain and Northern Ireland'\n",
      " 'United Republic of Tanzania' 'Haiti' 'Somalia' 'Philippines' 'Latvia'\n",
      " 'Chad' 'New Zealand' 'Tunisia' 'Viet Nam' 'Iran (Islamic Republic of)'\n",
      " 'Mexico' 'Japan' 'El Salvador' 'Bulgaria' 'Nigeria' 'South Sudan'\n",
      " 'Guatemala' 'Ireland' 'Turkey' 'Peru' 'Democratic Republic of the Congo'\n",
      " 'Canada' 'Switzerland' 'Denmark' 'Cameroon' 'Australia' 'Portugal'\n",
      " \"Côte d'Ivoire\" 'Sweden' 'Ethiopia' 'Thailand' 'Hungary' 'Kazakhstan'\n",
      " 'Israel' 'Spain' 'Myanmar' 'Papua New Guinea' 'Madagascar' 'Lithuania'\n",
      " 'Ghana' 'Azerbaijan' 'Armenia' 'Ukraine' 'Malaysia' 'Serbia' 'Slovakia'\n",
      " 'Gambia' 'Ecuador' 'Bosnia and Herzegovina' 'Czechia' 'Argentina'\n",
      " 'Dominican Republic' 'Guinea' 'Bolivia (Plurinational State of)'\n",
      " 'Bangladesh' 'Sudan' 'Chile' 'Panama' 'Congo' 'Kyrgyzstan' 'Mauritius'\n",
      " 'Greece' 'Malawi' 'Cuba' 'Saudi Arabia' 'Benin' 'Sierra Leone' 'Lebanon'\n",
      " 'Uruguay' 'Namibia' 'Albania' nan 'Guyana' 'Senegal' 'Lesotho' 'Mongolia'\n",
      " 'Venezuela (Bolivarian Republic of)' 'Solomon Islands' 'Paraguay'\n",
      " 'Zimbabwe' 'Austria' 'Croatia' 'Honduras' 'Cambodia' 'Uganda'\n",
      " 'Republic of Moldova' 'Angola' 'Kingdom of Eswatini' 'Afghanistan'\n",
      " 'Uzbekistan' 'Zambia' 'Morocco' 'Belarus' 'Norway' 'Malta' 'Rwanda'\n",
      " 'Sri Lanka' 'Botswana' 'Burundi' 'Jamaica' 'Central African Republic'\n",
      " 'Kenya' 'Niger' 'Mali' 'Slovenia' 'Costa Rica' 'Nicaragua'\n",
      " 'Republic of Korea' 'Burkina Faso' 'Cabo Verde' 'Mozambique' 'Mauritania'\n",
      " 'Guinea-Bissau' 'United Arab Emirates' 'Eritrea' 'Tajikistan' 'Barbados'\n",
      " 'Algeria' 'Iraq' 'Syrian Arab Republic' 'Gabon' 'Liberia'\n",
      " \"Lao People's Democratic Republic\" 'Bhutan' 'Yemen' 'Togo' 'Turkmenistan'\n",
      " 'Saint Lucia' 'Kuwait' 'Libya' 'Georgia' 'Nepal' 'Estonia'\n",
      " 'Trinidad and Tobago' 'Jordan' 'Cyprus' 'Montenegro' 'Comoros' 'Iceland'\n",
      " 'Andorra' 'Oman' 'Equatorial Guinea' 'Luxembourg' 'Vanuatu' 'Aruba'\n",
      " 'Belize' 'Qatar' 'Palau' 'Suriname' 'Singapore' 'Maldives' 'Bahrain'\n",
      " 'Seychelles' 'State of Palestine' 'Saint Kitts and Nevis' 'Monaco']\n"
     ]
    }
   ],
   "source": [
    "# See all the countries\n",
    "country = pollution[\"Country\"].unique()\n",
    "print(country)"
   ]
  },
  {
   "cell_type": "code",
   "execution_count": 144,
   "metadata": {},
   "outputs": [
    {
     "name": "stdout",
     "output_type": "stream",
     "text": [
      "176\n"
     ]
    }
   ],
   "source": [
    "# Find out how many countries are in the dataset\n",
    "print(len(country))"
   ]
  },
  {
   "cell_type": "code",
   "execution_count": 145,
   "metadata": {},
   "outputs": [
    {
     "name": "stdout",
     "output_type": "stream",
     "text": [
      "23463\n"
     ]
    }
   ],
   "source": [
    "# Find out how many Cities are in the dataset\n",
    "city = pollution[\"City\"].unique()\n",
    "print(len(city))"
   ]
  },
  {
   "cell_type": "code",
   "execution_count": 146,
   "metadata": {},
   "outputs": [
    {
     "data": {
      "text/html": [
       "<div>\n",
       "<style scoped>\n",
       "    .dataframe tbody tr th:only-of-type {\n",
       "        vertical-align: middle;\n",
       "    }\n",
       "\n",
       "    .dataframe tbody tr th {\n",
       "        vertical-align: top;\n",
       "    }\n",
       "\n",
       "    .dataframe thead th {\n",
       "        text-align: right;\n",
       "    }\n",
       "</style>\n",
       "<table border=\"1\" class=\"dataframe\">\n",
       "  <thead>\n",
       "    <tr style=\"text-align: right;\">\n",
       "      <th></th>\n",
       "      <th>City_ID</th>\n",
       "      <th>City</th>\n",
       "      <th>Country</th>\n",
       "      <th>AQI_Value</th>\n",
       "      <th>AQI_Category</th>\n",
       "      <th>CO_AQI_Value</th>\n",
       "      <th>CO_AQI_Category</th>\n",
       "      <th>Ozone_AQI_Value</th>\n",
       "      <th>Ozone_AQI_Category</th>\n",
       "      <th>NO2_AQI_Value</th>\n",
       "      <th>NO2_AQI_Category</th>\n",
       "      <th>PM2.5_AQI_Value</th>\n",
       "      <th>PM2.5_AQI_Category</th>\n",
       "    </tr>\n",
       "  </thead>\n",
       "  <tbody>\n",
       "    <tr>\n",
       "      <th>0</th>\n",
       "      <td>1</td>\n",
       "      <td>Praskoveya</td>\n",
       "      <td>Russian Federation</td>\n",
       "      <td>51</td>\n",
       "      <td>Moderate</td>\n",
       "      <td>1</td>\n",
       "      <td>Good</td>\n",
       "      <td>36</td>\n",
       "      <td>Good</td>\n",
       "      <td>0</td>\n",
       "      <td>Good</td>\n",
       "      <td>51</td>\n",
       "      <td>Moderate</td>\n",
       "    </tr>\n",
       "    <tr>\n",
       "      <th>1</th>\n",
       "      <td>2</td>\n",
       "      <td>Presidente Dutra</td>\n",
       "      <td>Brazil</td>\n",
       "      <td>41</td>\n",
       "      <td>Good</td>\n",
       "      <td>1</td>\n",
       "      <td>Good</td>\n",
       "      <td>5</td>\n",
       "      <td>Good</td>\n",
       "      <td>1</td>\n",
       "      <td>Good</td>\n",
       "      <td>41</td>\n",
       "      <td>Good</td>\n",
       "    </tr>\n",
       "    <tr>\n",
       "      <th>2</th>\n",
       "      <td>3</td>\n",
       "      <td>Priolo Gargallo</td>\n",
       "      <td>Italy</td>\n",
       "      <td>66</td>\n",
       "      <td>Moderate</td>\n",
       "      <td>1</td>\n",
       "      <td>Good</td>\n",
       "      <td>39</td>\n",
       "      <td>Good</td>\n",
       "      <td>2</td>\n",
       "      <td>Good</td>\n",
       "      <td>66</td>\n",
       "      <td>Moderate</td>\n",
       "    </tr>\n",
       "    <tr>\n",
       "      <th>3</th>\n",
       "      <td>4</td>\n",
       "      <td>Przasnysz</td>\n",
       "      <td>Poland</td>\n",
       "      <td>34</td>\n",
       "      <td>Good</td>\n",
       "      <td>1</td>\n",
       "      <td>Good</td>\n",
       "      <td>34</td>\n",
       "      <td>Good</td>\n",
       "      <td>0</td>\n",
       "      <td>Good</td>\n",
       "      <td>20</td>\n",
       "      <td>Good</td>\n",
       "    </tr>\n",
       "    <tr>\n",
       "      <th>4</th>\n",
       "      <td>5</td>\n",
       "      <td>Punaauia</td>\n",
       "      <td>France</td>\n",
       "      <td>22</td>\n",
       "      <td>Good</td>\n",
       "      <td>0</td>\n",
       "      <td>Good</td>\n",
       "      <td>22</td>\n",
       "      <td>Good</td>\n",
       "      <td>0</td>\n",
       "      <td>Good</td>\n",
       "      <td>6</td>\n",
       "      <td>Good</td>\n",
       "    </tr>\n",
       "    <tr>\n",
       "      <th>...</th>\n",
       "      <td>...</td>\n",
       "      <td>...</td>\n",
       "      <td>...</td>\n",
       "      <td>...</td>\n",
       "      <td>...</td>\n",
       "      <td>...</td>\n",
       "      <td>...</td>\n",
       "      <td>...</td>\n",
       "      <td>...</td>\n",
       "      <td>...</td>\n",
       "      <td>...</td>\n",
       "      <td>...</td>\n",
       "      <td>...</td>\n",
       "    </tr>\n",
       "    <tr>\n",
       "      <th>23458</th>\n",
       "      <td>23459</td>\n",
       "      <td>Gursahaiganj</td>\n",
       "      <td>India</td>\n",
       "      <td>184</td>\n",
       "      <td>Unhealthy</td>\n",
       "      <td>3</td>\n",
       "      <td>Good</td>\n",
       "      <td>154</td>\n",
       "      <td>Unhealthy</td>\n",
       "      <td>2</td>\n",
       "      <td>Good</td>\n",
       "      <td>184</td>\n",
       "      <td>Unhealthy</td>\n",
       "    </tr>\n",
       "    <tr>\n",
       "      <th>23459</th>\n",
       "      <td>23460</td>\n",
       "      <td>Sceaux</td>\n",
       "      <td>France</td>\n",
       "      <td>50</td>\n",
       "      <td>Good</td>\n",
       "      <td>1</td>\n",
       "      <td>Good</td>\n",
       "      <td>20</td>\n",
       "      <td>Good</td>\n",
       "      <td>5</td>\n",
       "      <td>Good</td>\n",
       "      <td>50</td>\n",
       "      <td>Good</td>\n",
       "    </tr>\n",
       "    <tr>\n",
       "      <th>23460</th>\n",
       "      <td>23461</td>\n",
       "      <td>Mormugao</td>\n",
       "      <td>India</td>\n",
       "      <td>50</td>\n",
       "      <td>Good</td>\n",
       "      <td>1</td>\n",
       "      <td>Good</td>\n",
       "      <td>22</td>\n",
       "      <td>Good</td>\n",
       "      <td>1</td>\n",
       "      <td>Good</td>\n",
       "      <td>50</td>\n",
       "      <td>Good</td>\n",
       "    </tr>\n",
       "    <tr>\n",
       "      <th>23461</th>\n",
       "      <td>23462</td>\n",
       "      <td>Westerville</td>\n",
       "      <td>United States of America</td>\n",
       "      <td>71</td>\n",
       "      <td>Moderate</td>\n",
       "      <td>1</td>\n",
       "      <td>Good</td>\n",
       "      <td>44</td>\n",
       "      <td>Good</td>\n",
       "      <td>2</td>\n",
       "      <td>Good</td>\n",
       "      <td>71</td>\n",
       "      <td>Moderate</td>\n",
       "    </tr>\n",
       "    <tr>\n",
       "      <th>23462</th>\n",
       "      <td>23463</td>\n",
       "      <td>Marang</td>\n",
       "      <td>Malaysia</td>\n",
       "      <td>70</td>\n",
       "      <td>Moderate</td>\n",
       "      <td>1</td>\n",
       "      <td>Good</td>\n",
       "      <td>38</td>\n",
       "      <td>Good</td>\n",
       "      <td>0</td>\n",
       "      <td>Good</td>\n",
       "      <td>70</td>\n",
       "      <td>Moderate</td>\n",
       "    </tr>\n",
       "  </tbody>\n",
       "</table>\n",
       "<p>23035 rows × 13 columns</p>\n",
       "</div>"
      ],
      "text/plain": [
       "       City_ID              City                   Country  AQI_Value  \\\n",
       "0            1        Praskoveya        Russian Federation         51   \n",
       "1            2  Presidente Dutra                    Brazil         41   \n",
       "2            3   Priolo Gargallo                     Italy         66   \n",
       "3            4         Przasnysz                    Poland         34   \n",
       "4            5          Punaauia                    France         22   \n",
       "...        ...               ...                       ...        ...   \n",
       "23458    23459      Gursahaiganj                     India        184   \n",
       "23459    23460            Sceaux                    France         50   \n",
       "23460    23461          Mormugao                     India         50   \n",
       "23461    23462       Westerville  United States of America         71   \n",
       "23462    23463            Marang                  Malaysia         70   \n",
       "\n",
       "      AQI_Category  CO_AQI_Value CO_AQI_Category  Ozone_AQI_Value  \\\n",
       "0         Moderate             1            Good               36   \n",
       "1             Good             1            Good                5   \n",
       "2         Moderate             1            Good               39   \n",
       "3             Good             1            Good               34   \n",
       "4             Good             0            Good               22   \n",
       "...            ...           ...             ...              ...   \n",
       "23458    Unhealthy             3            Good              154   \n",
       "23459         Good             1            Good               20   \n",
       "23460         Good             1            Good               22   \n",
       "23461     Moderate             1            Good               44   \n",
       "23462     Moderate             1            Good               38   \n",
       "\n",
       "      Ozone_AQI_Category  NO2_AQI_Value NO2_AQI_Category  PM2.5_AQI_Value  \\\n",
       "0                   Good              0             Good               51   \n",
       "1                   Good              1             Good               41   \n",
       "2                   Good              2             Good               66   \n",
       "3                   Good              0             Good               20   \n",
       "4                   Good              0             Good                6   \n",
       "...                  ...            ...              ...              ...   \n",
       "23458          Unhealthy              2             Good              184   \n",
       "23459               Good              5             Good               50   \n",
       "23460               Good              1             Good               50   \n",
       "23461               Good              2             Good               71   \n",
       "23462               Good              0             Good               70   \n",
       "\n",
       "      PM2.5_AQI_Category  \n",
       "0               Moderate  \n",
       "1                   Good  \n",
       "2               Moderate  \n",
       "3                   Good  \n",
       "4                   Good  \n",
       "...                  ...  \n",
       "23458          Unhealthy  \n",
       "23459               Good  \n",
       "23460               Good  \n",
       "23461           Moderate  \n",
       "23462           Moderate  \n",
       "\n",
       "[23035 rows x 13 columns]"
      ]
     },
     "execution_count": 146,
     "metadata": {},
     "output_type": "execute_result"
    }
   ],
   "source": [
    "#remove nulls from dataset and reorganize columns\n",
    "pollution_cleaned = pollution.dropna()\n",
    "pollution_df = pollution_cleaned[['City_ID', 'City', 'Country', 'AQI_Value', 'AQI_Category', 'CO_AQI_Value', 'CO_AQI_Category', 'Ozone_AQI_Value', 'Ozone_AQI_Category', 'NO2_AQI_Value', 'NO2_AQI_Category', 'PM2.5_AQI_Value', 'PM2.5_AQI_Category']]\n",
    "pollution_df"
   ]
  },
  {
   "cell_type": "code",
   "execution_count": 147,
   "metadata": {},
   "outputs": [
    {
     "data": {
      "text/html": [
       "<div>\n",
       "<style scoped>\n",
       "    .dataframe tbody tr th:only-of-type {\n",
       "        vertical-align: middle;\n",
       "    }\n",
       "\n",
       "    .dataframe tbody tr th {\n",
       "        vertical-align: top;\n",
       "    }\n",
       "\n",
       "    .dataframe thead th {\n",
       "        text-align: right;\n",
       "    }\n",
       "</style>\n",
       "<table border=\"1\" class=\"dataframe\">\n",
       "  <thead>\n",
       "    <tr style=\"text-align: right;\">\n",
       "      <th></th>\n",
       "      <th>City_ID</th>\n",
       "      <th>City</th>\n",
       "      <th>Country</th>\n",
       "      <th>AQI_Value</th>\n",
       "      <th>AQI_Category</th>\n",
       "      <th>CO_AQI_Value</th>\n",
       "      <th>CO_AQI_Category</th>\n",
       "      <th>Ozone_AQI_Value</th>\n",
       "      <th>Ozone_AQI_Category</th>\n",
       "      <th>NO2_AQI_Value</th>\n",
       "      <th>NO2_AQI_Category</th>\n",
       "      <th>PM2.5_AQI_Value</th>\n",
       "      <th>PM2.5_AQI_Category</th>\n",
       "    </tr>\n",
       "  </thead>\n",
       "  <tbody>\n",
       "    <tr>\n",
       "      <th>0</th>\n",
       "      <td>1</td>\n",
       "      <td>Praskoveya</td>\n",
       "      <td>Russian Federation</td>\n",
       "      <td>51</td>\n",
       "      <td>Moderate</td>\n",
       "      <td>1</td>\n",
       "      <td>Good</td>\n",
       "      <td>36</td>\n",
       "      <td>Good</td>\n",
       "      <td>0</td>\n",
       "      <td>Good</td>\n",
       "      <td>51</td>\n",
       "      <td>Moderate</td>\n",
       "    </tr>\n",
       "    <tr>\n",
       "      <th>1</th>\n",
       "      <td>2</td>\n",
       "      <td>Presidente Dutra</td>\n",
       "      <td>Brazil</td>\n",
       "      <td>41</td>\n",
       "      <td>Good</td>\n",
       "      <td>1</td>\n",
       "      <td>Good</td>\n",
       "      <td>5</td>\n",
       "      <td>Good</td>\n",
       "      <td>1</td>\n",
       "      <td>Good</td>\n",
       "      <td>41</td>\n",
       "      <td>Good</td>\n",
       "    </tr>\n",
       "    <tr>\n",
       "      <th>2</th>\n",
       "      <td>3</td>\n",
       "      <td>Priolo Gargallo</td>\n",
       "      <td>Italy</td>\n",
       "      <td>66</td>\n",
       "      <td>Moderate</td>\n",
       "      <td>1</td>\n",
       "      <td>Good</td>\n",
       "      <td>39</td>\n",
       "      <td>Good</td>\n",
       "      <td>2</td>\n",
       "      <td>Good</td>\n",
       "      <td>66</td>\n",
       "      <td>Moderate</td>\n",
       "    </tr>\n",
       "    <tr>\n",
       "      <th>3</th>\n",
       "      <td>4</td>\n",
       "      <td>Przasnysz</td>\n",
       "      <td>Poland</td>\n",
       "      <td>34</td>\n",
       "      <td>Good</td>\n",
       "      <td>1</td>\n",
       "      <td>Good</td>\n",
       "      <td>34</td>\n",
       "      <td>Good</td>\n",
       "      <td>0</td>\n",
       "      <td>Good</td>\n",
       "      <td>20</td>\n",
       "      <td>Good</td>\n",
       "    </tr>\n",
       "    <tr>\n",
       "      <th>4</th>\n",
       "      <td>5</td>\n",
       "      <td>Punaauia</td>\n",
       "      <td>France</td>\n",
       "      <td>22</td>\n",
       "      <td>Good</td>\n",
       "      <td>0</td>\n",
       "      <td>Good</td>\n",
       "      <td>22</td>\n",
       "      <td>Good</td>\n",
       "      <td>0</td>\n",
       "      <td>Good</td>\n",
       "      <td>6</td>\n",
       "      <td>Good</td>\n",
       "    </tr>\n",
       "    <tr>\n",
       "      <th>...</th>\n",
       "      <td>...</td>\n",
       "      <td>...</td>\n",
       "      <td>...</td>\n",
       "      <td>...</td>\n",
       "      <td>...</td>\n",
       "      <td>...</td>\n",
       "      <td>...</td>\n",
       "      <td>...</td>\n",
       "      <td>...</td>\n",
       "      <td>...</td>\n",
       "      <td>...</td>\n",
       "      <td>...</td>\n",
       "      <td>...</td>\n",
       "    </tr>\n",
       "    <tr>\n",
       "      <th>23458</th>\n",
       "      <td>23459</td>\n",
       "      <td>Gursahaiganj</td>\n",
       "      <td>India</td>\n",
       "      <td>184</td>\n",
       "      <td>Unhealthy</td>\n",
       "      <td>3</td>\n",
       "      <td>Good</td>\n",
       "      <td>154</td>\n",
       "      <td>Unhealthy</td>\n",
       "      <td>2</td>\n",
       "      <td>Good</td>\n",
       "      <td>184</td>\n",
       "      <td>Unhealthy</td>\n",
       "    </tr>\n",
       "    <tr>\n",
       "      <th>23459</th>\n",
       "      <td>23460</td>\n",
       "      <td>Sceaux</td>\n",
       "      <td>France</td>\n",
       "      <td>50</td>\n",
       "      <td>Good</td>\n",
       "      <td>1</td>\n",
       "      <td>Good</td>\n",
       "      <td>20</td>\n",
       "      <td>Good</td>\n",
       "      <td>5</td>\n",
       "      <td>Good</td>\n",
       "      <td>50</td>\n",
       "      <td>Good</td>\n",
       "    </tr>\n",
       "    <tr>\n",
       "      <th>23460</th>\n",
       "      <td>23461</td>\n",
       "      <td>Mormugao</td>\n",
       "      <td>India</td>\n",
       "      <td>50</td>\n",
       "      <td>Good</td>\n",
       "      <td>1</td>\n",
       "      <td>Good</td>\n",
       "      <td>22</td>\n",
       "      <td>Good</td>\n",
       "      <td>1</td>\n",
       "      <td>Good</td>\n",
       "      <td>50</td>\n",
       "      <td>Good</td>\n",
       "    </tr>\n",
       "    <tr>\n",
       "      <th>23461</th>\n",
       "      <td>23462</td>\n",
       "      <td>Westerville</td>\n",
       "      <td>United States of America</td>\n",
       "      <td>71</td>\n",
       "      <td>Moderate</td>\n",
       "      <td>1</td>\n",
       "      <td>Good</td>\n",
       "      <td>44</td>\n",
       "      <td>Good</td>\n",
       "      <td>2</td>\n",
       "      <td>Good</td>\n",
       "      <td>71</td>\n",
       "      <td>Moderate</td>\n",
       "    </tr>\n",
       "    <tr>\n",
       "      <th>23462</th>\n",
       "      <td>23463</td>\n",
       "      <td>Marang</td>\n",
       "      <td>Malaysia</td>\n",
       "      <td>70</td>\n",
       "      <td>Moderate</td>\n",
       "      <td>1</td>\n",
       "      <td>Good</td>\n",
       "      <td>38</td>\n",
       "      <td>Good</td>\n",
       "      <td>0</td>\n",
       "      <td>Good</td>\n",
       "      <td>70</td>\n",
       "      <td>Moderate</td>\n",
       "    </tr>\n",
       "  </tbody>\n",
       "</table>\n",
       "<p>23035 rows × 13 columns</p>\n",
       "</div>"
      ],
      "text/plain": [
       "       City_ID              City                   Country  AQI_Value  \\\n",
       "0            1        Praskoveya        Russian Federation         51   \n",
       "1            2  Presidente Dutra                    Brazil         41   \n",
       "2            3   Priolo Gargallo                     Italy         66   \n",
       "3            4         Przasnysz                    Poland         34   \n",
       "4            5          Punaauia                    France         22   \n",
       "...        ...               ...                       ...        ...   \n",
       "23458    23459      Gursahaiganj                     India        184   \n",
       "23459    23460            Sceaux                    France         50   \n",
       "23460    23461          Mormugao                     India         50   \n",
       "23461    23462       Westerville  United States of America         71   \n",
       "23462    23463            Marang                  Malaysia         70   \n",
       "\n",
       "      AQI_Category  CO_AQI_Value CO_AQI_Category  Ozone_AQI_Value  \\\n",
       "0         Moderate             1            Good               36   \n",
       "1             Good             1            Good                5   \n",
       "2         Moderate             1            Good               39   \n",
       "3             Good             1            Good               34   \n",
       "4             Good             0            Good               22   \n",
       "...            ...           ...             ...              ...   \n",
       "23458    Unhealthy             3            Good              154   \n",
       "23459         Good             1            Good               20   \n",
       "23460         Good             1            Good               22   \n",
       "23461     Moderate             1            Good               44   \n",
       "23462     Moderate             1            Good               38   \n",
       "\n",
       "      Ozone_AQI_Category  NO2_AQI_Value NO2_AQI_Category  PM2.5_AQI_Value  \\\n",
       "0                   Good              0             Good               51   \n",
       "1                   Good              1             Good               41   \n",
       "2                   Good              2             Good               66   \n",
       "3                   Good              0             Good               20   \n",
       "4                   Good              0             Good                6   \n",
       "...                  ...            ...              ...              ...   \n",
       "23458          Unhealthy              2             Good              184   \n",
       "23459               Good              5             Good               50   \n",
       "23460               Good              1             Good               50   \n",
       "23461               Good              2             Good               71   \n",
       "23462               Good              0             Good               70   \n",
       "\n",
       "      PM2.5_AQI_Category  \n",
       "0               Moderate  \n",
       "1                   Good  \n",
       "2               Moderate  \n",
       "3                   Good  \n",
       "4                   Good  \n",
       "...                  ...  \n",
       "23458          Unhealthy  \n",
       "23459               Good  \n",
       "23460               Good  \n",
       "23461           Moderate  \n",
       "23462           Moderate  \n",
       "\n",
       "[23035 rows x 13 columns]"
      ]
     },
     "execution_count": 147,
     "metadata": {},
     "output_type": "execute_result"
    }
   ],
   "source": [
    "pollution_df"
   ]
  },
  {
   "cell_type": "code",
   "execution_count": 148,
   "metadata": {},
   "outputs": [
    {
     "data": {
      "text/html": [
       "<div>\n",
       "<style scoped>\n",
       "    .dataframe tbody tr th:only-of-type {\n",
       "        vertical-align: middle;\n",
       "    }\n",
       "\n",
       "    .dataframe tbody tr th {\n",
       "        vertical-align: top;\n",
       "    }\n",
       "\n",
       "    .dataframe thead th {\n",
       "        text-align: right;\n",
       "    }\n",
       "</style>\n",
       "<table border=\"1\" class=\"dataframe\">\n",
       "  <thead>\n",
       "    <tr style=\"text-align: right;\">\n",
       "      <th></th>\n",
       "      <th>City_ID</th>\n",
       "      <th>City</th>\n",
       "      <th>Country</th>\n",
       "    </tr>\n",
       "  </thead>\n",
       "  <tbody>\n",
       "    <tr>\n",
       "      <th>0</th>\n",
       "      <td>1</td>\n",
       "      <td>Praskoveya</td>\n",
       "      <td>Russian Federation</td>\n",
       "    </tr>\n",
       "    <tr>\n",
       "      <th>1</th>\n",
       "      <td>2</td>\n",
       "      <td>Presidente Dutra</td>\n",
       "      <td>Brazil</td>\n",
       "    </tr>\n",
       "    <tr>\n",
       "      <th>2</th>\n",
       "      <td>3</td>\n",
       "      <td>Priolo Gargallo</td>\n",
       "      <td>Italy</td>\n",
       "    </tr>\n",
       "    <tr>\n",
       "      <th>3</th>\n",
       "      <td>4</td>\n",
       "      <td>Przasnysz</td>\n",
       "      <td>Poland</td>\n",
       "    </tr>\n",
       "    <tr>\n",
       "      <th>4</th>\n",
       "      <td>5</td>\n",
       "      <td>Punaauia</td>\n",
       "      <td>France</td>\n",
       "    </tr>\n",
       "    <tr>\n",
       "      <th>...</th>\n",
       "      <td>...</td>\n",
       "      <td>...</td>\n",
       "      <td>...</td>\n",
       "    </tr>\n",
       "    <tr>\n",
       "      <th>23458</th>\n",
       "      <td>23459</td>\n",
       "      <td>Gursahaiganj</td>\n",
       "      <td>India</td>\n",
       "    </tr>\n",
       "    <tr>\n",
       "      <th>23459</th>\n",
       "      <td>23460</td>\n",
       "      <td>Sceaux</td>\n",
       "      <td>France</td>\n",
       "    </tr>\n",
       "    <tr>\n",
       "      <th>23460</th>\n",
       "      <td>23461</td>\n",
       "      <td>Mormugao</td>\n",
       "      <td>India</td>\n",
       "    </tr>\n",
       "    <tr>\n",
       "      <th>23461</th>\n",
       "      <td>23462</td>\n",
       "      <td>Westerville</td>\n",
       "      <td>United States of America</td>\n",
       "    </tr>\n",
       "    <tr>\n",
       "      <th>23462</th>\n",
       "      <td>23463</td>\n",
       "      <td>Marang</td>\n",
       "      <td>Malaysia</td>\n",
       "    </tr>\n",
       "  </tbody>\n",
       "</table>\n",
       "<p>23035 rows × 3 columns</p>\n",
       "</div>"
      ],
      "text/plain": [
       "       City_ID              City                   Country\n",
       "0            1        Praskoveya        Russian Federation\n",
       "1            2  Presidente Dutra                    Brazil\n",
       "2            3   Priolo Gargallo                     Italy\n",
       "3            4         Przasnysz                    Poland\n",
       "4            5          Punaauia                    France\n",
       "...        ...               ...                       ...\n",
       "23458    23459      Gursahaiganj                     India\n",
       "23459    23460            Sceaux                    France\n",
       "23460    23461          Mormugao                     India\n",
       "23461    23462       Westerville  United States of America\n",
       "23462    23463            Marang                  Malaysia\n",
       "\n",
       "[23035 rows x 3 columns]"
      ]
     },
     "execution_count": 148,
     "metadata": {},
     "output_type": "execute_result"
    }
   ],
   "source": [
    "# Make City Table\n",
    "city_table =  pollution_df[[\"City_ID\", \"City\", \"Country\"]]\n",
    "city_table\n"
   ]
  },
  {
   "cell_type": "code",
   "execution_count": 149,
   "metadata": {},
   "outputs": [],
   "source": [
    "#Save Tables to csv file\n",
    "city_table.to_csv(\"data\\City_Table.csv\", encoding =\"UTF-8\", index=False)\n",
    "pollution_df.to_csv(\"data\\Global_Air_Pollution.csv\", encoding = \"UTF-8\", index=False)"
   ]
  },
  {
   "cell_type": "code",
   "execution_count": 150,
   "metadata": {},
   "outputs": [
    {
     "data": {
      "text/html": [
       "<div>\n",
       "<style scoped>\n",
       "    .dataframe tbody tr th:only-of-type {\n",
       "        vertical-align: middle;\n",
       "    }\n",
       "\n",
       "    .dataframe tbody tr th {\n",
       "        vertical-align: top;\n",
       "    }\n",
       "\n",
       "    .dataframe thead th {\n",
       "        text-align: right;\n",
       "    }\n",
       "</style>\n",
       "<table border=\"1\" class=\"dataframe\">\n",
       "  <thead>\n",
       "    <tr style=\"text-align: right;\">\n",
       "      <th></th>\n",
       "      <th>Country</th>\n",
       "      <th>AQI_Value</th>\n",
       "      <th>AQI_Category</th>\n",
       "    </tr>\n",
       "  </thead>\n",
       "  <tbody>\n",
       "    <tr>\n",
       "      <th>0</th>\n",
       "      <td>Russian Federation</td>\n",
       "      <td>51</td>\n",
       "      <td>Moderate</td>\n",
       "    </tr>\n",
       "    <tr>\n",
       "      <th>1</th>\n",
       "      <td>Brazil</td>\n",
       "      <td>41</td>\n",
       "      <td>Good</td>\n",
       "    </tr>\n",
       "    <tr>\n",
       "      <th>2</th>\n",
       "      <td>Italy</td>\n",
       "      <td>66</td>\n",
       "      <td>Moderate</td>\n",
       "    </tr>\n",
       "    <tr>\n",
       "      <th>3</th>\n",
       "      <td>Poland</td>\n",
       "      <td>34</td>\n",
       "      <td>Good</td>\n",
       "    </tr>\n",
       "    <tr>\n",
       "      <th>4</th>\n",
       "      <td>France</td>\n",
       "      <td>22</td>\n",
       "      <td>Good</td>\n",
       "    </tr>\n",
       "    <tr>\n",
       "      <th>...</th>\n",
       "      <td>...</td>\n",
       "      <td>...</td>\n",
       "      <td>...</td>\n",
       "    </tr>\n",
       "    <tr>\n",
       "      <th>23458</th>\n",
       "      <td>India</td>\n",
       "      <td>184</td>\n",
       "      <td>Unhealthy</td>\n",
       "    </tr>\n",
       "    <tr>\n",
       "      <th>23459</th>\n",
       "      <td>France</td>\n",
       "      <td>50</td>\n",
       "      <td>Good</td>\n",
       "    </tr>\n",
       "    <tr>\n",
       "      <th>23460</th>\n",
       "      <td>India</td>\n",
       "      <td>50</td>\n",
       "      <td>Good</td>\n",
       "    </tr>\n",
       "    <tr>\n",
       "      <th>23461</th>\n",
       "      <td>United States of America</td>\n",
       "      <td>71</td>\n",
       "      <td>Moderate</td>\n",
       "    </tr>\n",
       "    <tr>\n",
       "      <th>23462</th>\n",
       "      <td>Malaysia</td>\n",
       "      <td>70</td>\n",
       "      <td>Moderate</td>\n",
       "    </tr>\n",
       "  </tbody>\n",
       "</table>\n",
       "<p>23035 rows × 3 columns</p>\n",
       "</div>"
      ],
      "text/plain": [
       "                        Country  AQI_Value AQI_Category\n",
       "0            Russian Federation         51     Moderate\n",
       "1                        Brazil         41         Good\n",
       "2                         Italy         66     Moderate\n",
       "3                        Poland         34         Good\n",
       "4                        France         22         Good\n",
       "...                         ...        ...          ...\n",
       "23458                     India        184    Unhealthy\n",
       "23459                    France         50         Good\n",
       "23460                     India         50         Good\n",
       "23461  United States of America         71     Moderate\n",
       "23462                  Malaysia         70     Moderate\n",
       "\n",
       "[23035 rows x 3 columns]"
      ]
     },
     "execution_count": 150,
     "metadata": {},
     "output_type": "execute_result"
    }
   ],
   "source": [
    "overall_table = pollution_df.drop(columns = ['City_ID', 'City', 'CO_AQI_Value', 'CO_AQI_Category', 'Ozone_AQI_Value', 'Ozone_AQI_Category', 'NO2_AQI_Value', 'NO2_AQI_Category', 'PM2.5_AQI_Value', 'PM2.5_AQI_Category'])\n",
    "overall_table"
   ]
  },
  {
   "cell_type": "code",
   "execution_count": 151,
   "metadata": {},
   "outputs": [],
   "source": [
    "# Setting up tables for each pollutant\n",
    "CO_table = pollution_df.drop(columns = ['City_ID', 'City', 'AQI_Value', 'AQI_Category', 'Ozone_AQI_Value', 'Ozone_AQI_Category', 'NO2_AQI_Value', 'NO2_AQI_Category', 'PM2.5_AQI_Value', 'PM2.5_AQI_Category'])\n",
    "Ozone_table = pollution_df.drop(columns = ['City_ID', 'City', 'AQI_Value', 'AQI_Category', 'CO_AQI_Value', 'CO_AQI_Category', 'NO2_AQI_Value', 'NO2_AQI_Category', 'PM2.5_AQI_Value', 'PM2.5_AQI_Category'])\n",
    "NO2_table = pollution_df.drop(columns = ['City_ID', 'City', 'AQI_Value', 'AQI_Category', 'CO_AQI_Value', 'CO_AQI_Category', 'Ozone_AQI_Value', 'Ozone_AQI_Category', 'PM2.5_AQI_Value', 'PM2.5_AQI_Category'])\n",
    "PM_table = pollution_df.drop(columns = ['City_ID', 'City', 'AQI_Value', 'AQI_Category', 'CO_AQI_Value', 'CO_AQI_Category', 'Ozone_AQI_Value', 'Ozone_AQI_Category', 'NO2_AQI_Value', 'NO2_AQI_Category'])\n"
   ]
  },
  {
   "cell_type": "code",
   "execution_count": 152,
   "metadata": {},
   "outputs": [
    {
     "data": {
      "text/plain": [
       "Country\n",
       "Republic of Korea       421.000000\n",
       "Bahrain                 188.000000\n",
       "Mauritania              179.000000\n",
       "Pakistan                178.788274\n",
       "United Arab Emirates    163.666667\n",
       "Name: AQI_Value, dtype: float64"
      ]
     },
     "execution_count": 152,
     "metadata": {},
     "output_type": "execute_result"
    }
   ],
   "source": [
    "# Find and sort average overall AQI showing top 5\n",
    "AQI_mean = pollution_df.groupby(\"Country\")[\"AQI_Value\"].mean()\n",
    "AQI_mean.sort_values(ascending=False).head(5)\n"
   ]
  },
  {
   "cell_type": "code",
   "execution_count": 153,
   "metadata": {},
   "outputs": [
    {
     "data": {
      "text/plain": [
       "Country\n",
       "Bolivia (Plurinational State of)    23.787879\n",
       "Iceland                             23.000000\n",
       "Maldives                            19.000000\n",
       "Solomon Islands                     18.000000\n",
       "Palau                               16.000000\n",
       "Name: AQI_Value, dtype: float64"
      ]
     },
     "execution_count": 153,
     "metadata": {},
     "output_type": "execute_result"
    }
   ],
   "source": [
    "AQI_mean.sort_values(ascending=False).tail(5)"
   ]
  },
  {
   "cell_type": "code",
   "execution_count": 154,
   "metadata": {},
   "outputs": [
    {
     "data": {
      "text/plain": [
       "Country\n",
       "Republic of Korea                   27.000000\n",
       "South Africa                         5.379310\n",
       "Democratic Republic of the Congo     5.285714\n",
       "Kingdom of Eswatini                  4.666667\n",
       "Nigeria                              3.812500\n",
       "Name: CO_AQI_Value, dtype: float64"
      ]
     },
     "execution_count": 154,
     "metadata": {},
     "output_type": "execute_result"
    }
   ],
   "source": [
    "# Find and sort average Carbon Monoxide AQI showing top 5\n",
    "CO_mean = pollution_df.groupby (\"Country\")[\"CO_AQI_Value\"].mean()\n",
    "CO_mean.sort_values(ascending=False).head(5)"
   ]
  },
  {
   "cell_type": "code",
   "execution_count": 155,
   "metadata": {},
   "outputs": [
    {
     "data": {
      "text/plain": [
       "Country\n",
       "Barbados       0.0\n",
       "Saint Lucia    0.0\n",
       "Seychelles     0.0\n",
       "Cabo Verde     0.0\n",
       "Aruba          0.0\n",
       "Name: CO_AQI_Value, dtype: float64"
      ]
     },
     "execution_count": 155,
     "metadata": {},
     "output_type": "execute_result"
    }
   ],
   "source": [
    "CO_mean.sort_values(ascending=False).tail(5)"
   ]
  },
  {
   "cell_type": "code",
   "execution_count": 156,
   "metadata": {},
   "outputs": [
    {
     "data": {
      "text/plain": [
       "Country\n",
       "United Arab Emirates    159.666667\n",
       "Qatar                   139.000000\n",
       "Kuwait                  135.666667\n",
       "Bahrain                 127.000000\n",
       "Oman                     97.833333\n",
       "Name: Ozone_AQI_Value, dtype: float64"
      ]
     },
     "execution_count": 156,
     "metadata": {},
     "output_type": "execute_result"
    }
   ],
   "source": [
    "# Find and sort average Ozone AQI showing top 5\n",
    "Ozone_mean = pollution_df.groupby(\"Country\")[\"Ozone_AQI_Value\"].mean()\n",
    "Ozone_mean.sort_values(ascending=False).head(5)"
   ]
  },
  {
   "cell_type": "code",
   "execution_count": 157,
   "metadata": {},
   "outputs": [
    {
     "data": {
      "text/plain": [
       "Country\n",
       "South Sudan                         10.416667\n",
       "Chile                               10.049383\n",
       "Colombia                             9.776000\n",
       "Bolivia (Plurinational State of)     8.333333\n",
       "Republic of Korea                    0.000000\n",
       "Name: Ozone_AQI_Value, dtype: float64"
      ]
     },
     "execution_count": 157,
     "metadata": {},
     "output_type": "execute_result"
    }
   ],
   "source": [
    "Ozone_mean.sort_values(ascending=False).tail(5)"
   ]
  },
  {
   "cell_type": "code",
   "execution_count": 158,
   "metadata": {},
   "outputs": [
    {
     "data": {
      "text/plain": [
       "Country\n",
       "Republic of Korea    91.000000\n",
       "Kuwait               13.666667\n",
       "El Salvador           9.393939\n",
       "Algeria               9.333333\n",
       "Chile                 8.592593\n",
       "Name: NO2_AQI_Value, dtype: float64"
      ]
     },
     "execution_count": 158,
     "metadata": {},
     "output_type": "execute_result"
    }
   ],
   "source": [
    "# Find and sort average Nitrogen Dioxide AQI showing top 5\n",
    "NO2_mean = pollution_df.groupby (\"Country\")[\"NO2_AQI_Value\"].mean()\n",
    "NO2_mean.sort_values(ascending=False).head(5)"
   ]
  },
  {
   "cell_type": "code",
   "execution_count": 159,
   "metadata": {},
   "outputs": [
    {
     "data": {
      "text/plain": [
       "Country\n",
       "Eritrea              0.0\n",
       "Equatorial Guinea    0.0\n",
       "Comoros              0.0\n",
       "Solomon Islands      0.0\n",
       "Namibia              0.0\n",
       "Name: NO2_AQI_Value, dtype: float64"
      ]
     },
     "execution_count": 159,
     "metadata": {},
     "output_type": "execute_result"
    }
   ],
   "source": [
    "NO2_mean.sort_values(ascending=False).tail(5)"
   ]
  },
  {
   "cell_type": "code",
   "execution_count": 160,
   "metadata": {},
   "outputs": [
    {
     "data": {
      "text/plain": [
       "Country\n",
       "Republic of Korea    415.000000\n",
       "Bahrain              188.000000\n",
       "Mauritania           179.000000\n",
       "Pakistan             173.110749\n",
       "Aruba                163.000000\n",
       "Name: PM2.5_AQI_Value, dtype: float64"
      ]
     },
     "execution_count": 160,
     "metadata": {},
     "output_type": "execute_result"
    }
   ],
   "source": [
    "# Find and sort average Particulate Matter showing top 5\n",
    "# (with a diameter of 2.5 micrometers or less of the city) AQI\n",
    "PM_mean = pollution_df.groupby (\"Country\")[\"PM2.5_AQI_Value\"].mean()\n",
    "PM_mean.sort_values(ascending=False).head(5)"
   ]
  },
  {
   "cell_type": "code",
   "execution_count": 161,
   "metadata": {},
   "outputs": [
    {
     "data": {
      "text/plain": [
       "Country\n",
       "Norway             18.571429\n",
       "Iceland            18.333333\n",
       "Maldives           15.000000\n",
       "Palau               7.000000\n",
       "Solomon Islands     6.000000\n",
       "Name: PM2.5_AQI_Value, dtype: float64"
      ]
     },
     "execution_count": 161,
     "metadata": {},
     "output_type": "execute_result"
    }
   ],
   "source": [
    "PM_mean.sort_values(ascending=False).tail(5)"
   ]
  },
  {
   "cell_type": "code",
   "execution_count": 162,
   "metadata": {},
   "outputs": [
    {
     "data": {
      "image/png": "[encoded data removed]",
      "text/plain": [
       "<Figure size 640x480 with 1 Axes>"
      ]
     },
     "metadata": {},
     "output_type": "display_data"
    }
   ],
   "source": [
    "# Create plot for top pollutants\n",
    "# plot:    \n",
    "                   \n",
    "plt.bar([\"Bahrain\",\"Mauritania\",\"Pakistan\",\"United Arab Emirates\",\"Republic of Korea\"],[163.666667,178.788274,179.000000,188.000000,421.000000],\n",
    "label=\"AQI\",color='b',width=0.5)\n",
    "plt.bar([\"Nigeria\",\"Kingdom of Eswatini\",\"Democratic Republic of the Congo\",\"South Africa\",\"Republic of Korea\"],[3.812500,4.666667,5.285714,5.379310,27.000000],\n",
    "label=\"CO AQI\", color='g',width=.5)\n",
    "plt.bar([\"Oman\",\"Bahrain\",\"Kuwait\",\"Qatar\",\"United Arab Emirates\"],[97.833333,127.000000,135.666667,139.000000,159.666667],\n",
    "label=\"Ozone AQI\", color='c',width=.5)\n",
    "plt.bar([\"Chile\",\"Algeria\",\"El Salvador\",\"Kuwait\",\"Republic of Korea\"],[8.592593,9.333333,9.393939,13.666667,91.000000],\n",
    "label=\"NO2 AQI\", color='y',width=.5)\n",
    "plt.bar([\"Aruba\", \"Pakistan\",\"Mauritania\",\"Bahrain\",\"Republic of Korea\"],[163.000000,415.000000,188.000000,179.000000,173.110749],\n",
    "label=\"PM 2.5 AQI\", color='m',width=.5)\n",
    "plt.legend()\n",
    "plt.xlabel('County')\n",
    "plt.xticks(rotation=90)\n",
    "plt.ylabel('AQI')\n",
    "plt.title('Top 5 Countries with the highest AQI')\n",
    "plt.savefig(\"Top_5_Countries\")\n",
    "# Print the chart\n",
    "plt.show()"
   ]
  },
  {
   "cell_type": "code",
   "execution_count": 163,
   "metadata": {},
   "outputs": [
    {
     "data": {
      "image/png": "[encoded data removed]",
      "text/plain": [
       "<Figure size 640x480 with 1 Axes>"
      ]
     },
     "metadata": {},
     "output_type": "display_data"
    }
   ],
   "source": [
    "# Create plot for lowest pollutants\n",
    "# plot:    \n",
    "                   \n",
    "plt.bar([\"Palau\", \"Solomon Islands\" ,\"Maldives\", \"Iceland\", \"Bolivia (Plurinational State of)\"],[16.000000,18.000000,19.000000,23.000000,23.787879],\n",
    "label=\"AQI\",color='b',width=0.5)\n",
    "plt.bar([\"Aruba\",\"Cabo Verde\", \"Seychelles\", \"Saint Lucia\", \"Barbados\"],[0, 0, 0, 0, 0],\n",
    "label=\"CO AQI\", color='g',width=.5)\n",
    "plt.bar([\"South Sudan\",\"Chile\",\"Colombia\",\"Bolivia (Plurinational State of)\",\"Republic of Korea\"],[0.000000,8.333333,9.776000,10.049383,10.416667],\n",
    "label=\"Ozone AQI\", color='c',width=.5)\n",
    "plt.bar([\"Namibia\",\"Solomon Islands\",\"Comoros\",\"Equatorial Guinea\",\"Eritrea\"],[0,0,0,0,0],\n",
    "label=\"NO2 AQI\", color='y',width=.5)\n",
    "plt.bar([\"Solomon Islands\", \"Palau\",\"Maldives\",\"Iceland\",\"Norway\"],[6.000000,7.000000,15.000000,18.333333,18.571429],\n",
    "label=\"PM 2.5 AQI\", color='m',width=.5)\n",
    "plt.legend()\n",
    "plt.xlabel('County')\n",
    "plt.xticks(rotation=90)\n",
    "plt.ylabel('AQI')\n",
    "plt.title('Bottom 5 Countries with the lowest AQI')\n",
    "plt.savefig(\"Bottom_5_Countries\")\n",
    "# Print the chart\n",
    "plt.show()\n"
   ]
  },
  {
   "cell_type": "code",
   "execution_count": 164,
   "metadata": {},
   "outputs": [
    {
     "data": {
      "text/plain": [
       "59.74059888579387"
      ]
     },
     "execution_count": 164,
     "metadata": {},
     "output_type": "execute_result"
    }
   ],
   "source": [
    "#Find out the pollution in the United States\n",
    "USA_AQI = pollution_df.loc[pollution_df[\"Country\"] == \"United States of America\", :]\n",
    "USA_AQI[\"AQI_Value\"].mean()"
   ]
  },
  {
   "cell_type": "code",
   "execution_count": 165,
   "metadata": {},
   "outputs": [
    {
     "data": {
      "text/plain": [
       "1.456824512534819"
      ]
     },
     "execution_count": 165,
     "metadata": {},
     "output_type": "execute_result"
    }
   ],
   "source": [
    "#Find out the Carbon Monoxide pollution in the United States\n",
    "USA_AQI[\"CO_AQI_Value\"].mean()"
   ]
  },
  {
   "cell_type": "code",
   "execution_count": 166,
   "metadata": {},
   "outputs": [
    {
     "data": {
      "text/plain": [
       "27.619777158774372"
      ]
     },
     "execution_count": 166,
     "metadata": {},
     "output_type": "execute_result"
    }
   ],
   "source": [
    "#Find out the Ozone pollution in the United States\n",
    "USA_AQI[\"Ozone_AQI_Value\"].mean()"
   ]
  },
  {
   "cell_type": "code",
   "execution_count": 167,
   "metadata": {},
   "outputs": [
    {
     "data": {
      "text/plain": [
       "8.541434540389972"
      ]
     },
     "execution_count": 167,
     "metadata": {},
     "output_type": "execute_result"
    }
   ],
   "source": [
    "# Find out the Nitrogen Dioxide Pollution in the United States\n",
    "USA_AQI[\"NO2_AQI_Value\"].mean()"
   ]
  },
  {
   "cell_type": "code",
   "execution_count": 168,
   "metadata": {},
   "outputs": [
    {
     "data": {
      "text/plain": [
       "58.051532033426184"
      ]
     },
     "execution_count": 168,
     "metadata": {},
     "output_type": "execute_result"
    }
   ],
   "source": [
    "#Find out the Particulate Matter (with a diameter of 2.5 micrometers or less of the city) pollution in the United States\n",
    "USA_AQI[\"PM2.5_AQI_Value\"].mean()"
   ]
  },
  {
   "cell_type": "code",
   "execution_count": null,
   "metadata": {},
   "outputs": [],
   "source": []
  }
 ],
 "metadata": {
  "kernelspec": {
   "display_name": "PythonData_2023_08",
   "language": "python",
   "name": "python3"
  },
  "language_info": {
   "codemirror_mode": {
    "name": "ipython",
    "version": 3
   },
   "file_extension": ".py",
   "mimetype": "text/x-python",
   "name": "python",
   "nbconvert_exporter": "python",
   "pygments_lexer": "ipython3",
   "version": "3.10.13"
  }
 },
 "nbformat": 4,
 "nbformat_minor": 2
}
