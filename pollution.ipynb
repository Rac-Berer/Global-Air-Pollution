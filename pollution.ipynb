{
 "cells": [
  {
   "cell_type": "code",
   "execution_count": 1,
   "metadata": {},
   "outputs": [],
   "source": [
    "# Dependencies and Setup\n",
    "import pandas as pd\n",
    "import requests\n",
    "import matplotlib.pyplot as plt\n",
    "import numpy as np\n",
    "from scipy.stats import linregress\n",
    "import scipy.stats as st\n",
    "import flask as Flask"
   ]
  },
  {
   "cell_type": "code",
   "execution_count": 2,
   "metadata": {},
   "outputs": [
    {
     "data": {
      "text/html": [
       "<div>\n",
       "<style scoped>\n",
       "    .dataframe tbody tr th:only-of-type {\n",
       "        vertical-align: middle;\n",
       "    }\n",
       "\n",
       "    .dataframe tbody tr th {\n",
       "        vertical-align: top;\n",
       "    }\n",
       "\n",
       "    .dataframe thead th {\n",
       "        text-align: right;\n",
       "    }\n",
       "</style>\n",
       "<table border=\"1\" class=\"dataframe\">\n",
       "  <thead>\n",
       "    <tr style=\"text-align: right;\">\n",
       "      <th></th>\n",
       "      <th>City_ID</th>\n",
       "      <th>Country</th>\n",
       "      <th>City</th>\n",
       "      <th>AQI_Value</th>\n",
       "      <th>AQI_Category</th>\n",
       "      <th>CO_AQI_Value</th>\n",
       "      <th>CO_AQI_Category</th>\n",
       "      <th>Ozone_AQI_Value</th>\n",
       "      <th>Ozone_AQI_Category</th>\n",
       "      <th>NO2_AQI_Value</th>\n",
       "      <th>NO2_AQI_Category</th>\n",
       "      <th>PM2.5_AQI_Value</th>\n",
       "      <th>PM2.5_AQI_Category</th>\n",
       "    </tr>\n",
       "  </thead>\n",
       "  <tbody>\n",
       "    <tr>\n",
       "      <th>0</th>\n",
       "      <td>1</td>\n",
       "      <td>Russian Federation</td>\n",
       "      <td>Praskoveya</td>\n",
       "      <td>51</td>\n",
       "      <td>Moderate</td>\n",
       "      <td>1</td>\n",
       "      <td>Good</td>\n",
       "      <td>36</td>\n",
       "      <td>Good</td>\n",
       "      <td>0</td>\n",
       "      <td>Good</td>\n",
       "      <td>51</td>\n",
       "      <td>Moderate</td>\n",
       "    </tr>\n",
       "    <tr>\n",
       "      <th>1</th>\n",
       "      <td>2</td>\n",
       "      <td>Brazil</td>\n",
       "      <td>Presidente Dutra</td>\n",
       "      <td>41</td>\n",
       "      <td>Good</td>\n",
       "      <td>1</td>\n",
       "      <td>Good</td>\n",
       "      <td>5</td>\n",
       "      <td>Good</td>\n",
       "      <td>1</td>\n",
       "      <td>Good</td>\n",
       "      <td>41</td>\n",
       "      <td>Good</td>\n",
       "    </tr>\n",
       "    <tr>\n",
       "      <th>2</th>\n",
       "      <td>3</td>\n",
       "      <td>Italy</td>\n",
       "      <td>Priolo Gargallo</td>\n",
       "      <td>66</td>\n",
       "      <td>Moderate</td>\n",
       "      <td>1</td>\n",
       "      <td>Good</td>\n",
       "      <td>39</td>\n",
       "      <td>Good</td>\n",
       "      <td>2</td>\n",
       "      <td>Good</td>\n",
       "      <td>66</td>\n",
       "      <td>Moderate</td>\n",
       "    </tr>\n",
       "    <tr>\n",
       "      <th>3</th>\n",
       "      <td>4</td>\n",
       "      <td>Poland</td>\n",
       "      <td>Przasnysz</td>\n",
       "      <td>34</td>\n",
       "      <td>Good</td>\n",
       "      <td>1</td>\n",
       "      <td>Good</td>\n",
       "      <td>34</td>\n",
       "      <td>Good</td>\n",
       "      <td>0</td>\n",
       "      <td>Good</td>\n",
       "      <td>20</td>\n",
       "      <td>Good</td>\n",
       "    </tr>\n",
       "    <tr>\n",
       "      <th>4</th>\n",
       "      <td>5</td>\n",
       "      <td>France</td>\n",
       "      <td>Punaauia</td>\n",
       "      <td>22</td>\n",
       "      <td>Good</td>\n",
       "      <td>0</td>\n",
       "      <td>Good</td>\n",
       "      <td>22</td>\n",
       "      <td>Good</td>\n",
       "      <td>0</td>\n",
       "      <td>Good</td>\n",
       "      <td>6</td>\n",
       "      <td>Good</td>\n",
       "    </tr>\n",
       "  </tbody>\n",
       "</table>\n",
       "</div>"
      ],
      "text/plain": [
       "   City_ID             Country              City  AQI_Value AQI_Category  \\\n",
       "0        1  Russian Federation        Praskoveya         51     Moderate   \n",
       "1        2              Brazil  Presidente Dutra         41         Good   \n",
       "2        3               Italy   Priolo Gargallo         66     Moderate   \n",
       "3        4              Poland         Przasnysz         34         Good   \n",
       "4        5              France          Punaauia         22         Good   \n",
       "\n",
       "   CO_AQI_Value CO_AQI_Category  Ozone_AQI_Value Ozone_AQI_Category  \\\n",
       "0             1            Good               36               Good   \n",
       "1             1            Good                5               Good   \n",
       "2             1            Good               39               Good   \n",
       "3             1            Good               34               Good   \n",
       "4             0            Good               22               Good   \n",
       "\n",
       "   NO2_AQI_Value NO2_AQI_Category  PM2.5_AQI_Value PM2.5_AQI_Category  \n",
       "0              0             Good               51           Moderate  \n",
       "1              1             Good               41               Good  \n",
       "2              2             Good               66           Moderate  \n",
       "3              0             Good               20               Good  \n",
       "4              0             Good                6               Good  "
      ]
     },
     "execution_count": 2,
     "metadata": {},
     "output_type": "execute_result"
    }
   ],
   "source": [
    "# Read in csv file and display data\n",
    "pollution = pd.read_csv(\"data\\global air pollutiondataset.csv\")\n",
    "pollution.head()"
   ]
  },
  {
   "cell_type": "code",
   "execution_count": 3,
   "metadata": {},
   "outputs": [
    {
     "name": "stdout",
     "output_type": "stream",
     "text": [
      "<class 'pandas.core.frame.DataFrame'>\n",
      "RangeIndex: 23463 entries, 0 to 23462\n",
      "Data columns (total 13 columns):\n",
      " #   Column              Non-Null Count  Dtype \n",
      "---  ------              --------------  ----- \n",
      " 0   City_ID             23463 non-null  int64 \n",
      " 1   Country             23036 non-null  object\n",
      " 2   City                23462 non-null  object\n",
      " 3   AQI_Value           23463 non-null  int64 \n",
      " 4   AQI_Category        23463 non-null  object\n",
      " 5   CO_AQI_Value        23463 non-null  int64 \n",
      " 6   CO_AQI_Category     23463 non-null  object\n",
      " 7   Ozone_AQI_Value     23463 non-null  int64 \n",
      " 8   Ozone_AQI_Category  23463 non-null  object\n",
      " 9   NO2_AQI_Value       23463 non-null  int64 \n",
      " 10  NO2_AQI_Category    23463 non-null  object\n",
      " 11  PM2.5_AQI_Value     23463 non-null  int64 \n",
      " 12  PM2.5_AQI_Category  23463 non-null  object\n",
      "dtypes: int64(6), object(7)\n",
      "memory usage: 2.3+ MB\n"
     ]
    }
   ],
   "source": [
    "# summary of the global air pollution dataset\n",
    "pollution.info()"
   ]
  },
  {
   "cell_type": "code",
   "execution_count": 4,
   "metadata": {},
   "outputs": [
    {
     "name": "stdout",
     "output_type": "stream",
     "text": [
      "['Russian Federation' 'Brazil' 'Italy' 'Poland' 'France'\n",
      " 'United States of America' 'Germany' 'Belgium' 'Egypt' 'China'\n",
      " 'Netherlands' 'India' 'Pakistan' 'Republic of North Macedonia' 'Colombia'\n",
      " 'Romania' 'Indonesia' 'Finland' 'South Africa'\n",
      " 'United Kingdom of Great Britain and Northern Ireland'\n",
      " 'United Republic of Tanzania' 'Haiti' 'Somalia' 'Philippines' 'Latvia'\n",
      " 'Chad' 'New Zealand' 'Tunisia' 'Viet Nam' 'Iran (Islamic Republic of)'\n",
      " 'Mexico' 'Japan' 'El Salvador' 'Bulgaria' 'Nigeria' 'South Sudan'\n",
      " 'Guatemala' 'Ireland' 'Turkey' 'Peru' 'Democratic Republic of the Congo'\n",
      " 'Canada' 'Switzerland' 'Denmark' 'Cameroon' 'Australia' 'Portugal'\n",
      " \"Côte d'Ivoire\" 'Sweden' 'Ethiopia' 'Thailand' 'Hungary' 'Kazakhstan'\n",
      " 'Israel' 'Spain' 'Myanmar' 'Papua New Guinea' 'Madagascar' 'Lithuania'\n",
      " 'Ghana' 'Azerbaijan' 'Armenia' 'Ukraine' 'Malaysia' 'Serbia' 'Slovakia'\n",
      " 'Gambia' 'Ecuador' 'Bosnia and Herzegovina' 'Czechia' 'Argentina'\n",
      " 'Dominican Republic' 'Guinea' 'Bolivia (Plurinational State of)'\n",
      " 'Bangladesh' 'Sudan' 'Chile' 'Panama' 'Congo' 'Kyrgyzstan' 'Mauritius'\n",
      " 'Greece' 'Malawi' 'Cuba' 'Saudi Arabia' 'Benin' 'Sierra Leone' 'Lebanon'\n",
      " 'Uruguay' 'Namibia' 'Albania' nan 'Guyana' 'Senegal' 'Lesotho' 'Mongolia'\n",
      " 'Venezuela (Bolivarian Republic of)' 'Solomon Islands' 'Paraguay'\n",
      " 'Zimbabwe' 'Austria' 'Croatia' 'Honduras' 'Cambodia' 'Uganda'\n",
      " 'Republic of Moldova' 'Angola' 'Kingdom of Eswatini' 'Afghanistan'\n",
      " 'Uzbekistan' 'Zambia' 'Morocco' 'Belarus' 'Norway' 'Malta' 'Rwanda'\n",
      " 'Sri Lanka' 'Botswana' 'Burundi' 'Jamaica' 'Central African Republic'\n",
      " 'Kenya' 'Niger' 'Mali' 'Slovenia' 'Costa Rica' 'Nicaragua'\n",
      " 'Republic of Korea' 'Burkina Faso' 'Cabo Verde' 'Mozambique' 'Mauritania'\n",
      " 'Guinea-Bissau' 'United Arab Emirates' 'Eritrea' 'Tajikistan' 'Barbados'\n",
      " 'Algeria' 'Iraq' 'Syrian Arab Republic' 'Gabon' 'Liberia'\n",
      " \"Lao People's Democratic Republic\" 'Bhutan' 'Yemen' 'Togo' 'Turkmenistan'\n",
      " 'Saint Lucia' 'Kuwait' 'Libya' 'Georgia' 'Nepal' 'Estonia'\n",
      " 'Trinidad and Tobago' 'Jordan' 'Cyprus' 'Montenegro' 'Comoros' 'Iceland'\n",
      " 'Andorra' 'Oman' 'Equatorial Guinea' 'Luxembourg' 'Vanuatu' 'Aruba'\n",
      " 'Belize' 'Qatar' 'Palau' 'Suriname' 'Singapore' 'Maldives' 'Bahrain'\n",
      " 'Seychelles' 'State of Palestine' 'Saint Kitts and Nevis' 'Monaco']\n"
     ]
    }
   ],
   "source": [
    "# See all the countries\n",
    "country = pollution[\"Country\"].unique()\n",
    "print(country)"
   ]
  },
  {
   "cell_type": "code",
   "execution_count": 5,
   "metadata": {},
   "outputs": [
    {
     "name": "stdout",
     "output_type": "stream",
     "text": [
      "176\n"
     ]
    }
   ],
   "source": [
    "# Find out how many countries are in the dataset\n",
    "print(len(country))"
   ]
  },
  {
   "cell_type": "code",
   "execution_count": 6,
   "metadata": {},
   "outputs": [
    {
     "name": "stdout",
     "output_type": "stream",
     "text": [
      "23463\n"
     ]
    }
   ],
   "source": [
    "# Find out how many Cities are in the dataset\n",
    "city = pollution[\"City\"].unique()\n",
    "print(len(city))"
   ]
  },
  {
   "cell_type": "code",
   "execution_count": null,
   "metadata": {},
   "outputs": [],
   "source": [
    "pollution.dropna"
   ]
  },
  {
   "cell_type": "code",
   "execution_count": null,
   "metadata": {},
   "outputs": [],
   "source": [
    "#group Cities with AQI Values\n",
    "\n",
    "\n",
    "# Find out the cities with the most overall pollution\n",
    "# AQI_values_per_city = pollution[\"AQI Value\"].sort_values(ascending = False)\n",
    "# print(AQI_values_per_city)"
   ]
  },
  {
   "cell_type": "code",
   "execution_count": null,
   "metadata": {},
   "outputs": [],
   "source": [
    "# Read in csv file (part 2)\n",
    "population = pd.read_csv(\"data\\air_index.csv\")\n",
    "population.head()\n"
   ]
  }
 ],
 "metadata": {
  "kernelspec": {
   "display_name": "PythonData_2023_08",
   "language": "python",
   "name": "python3"
  },
  "language_info": {
   "codemirror_mode": {
    "name": "ipython",
    "version": 3
   },
   "file_extension": ".py",
   "mimetype": "text/x-python",
   "name": "python",
   "nbconvert_exporter": "python",
   "pygments_lexer": "ipython3",
   "version": "3.10.13"
  }
 },
 "nbformat": 4,
 "nbformat_minor": 2
}
